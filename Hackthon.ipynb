{
 "cells": [
  {
   "cell_type": "code",
   "execution_count": 3,
   "id": "9c0c7ffd",
   "metadata": {},
   "outputs": [
    {
     "name": "stderr",
     "output_type": "stream",
     "text": [
      "C:\\Users\\gorla\\anaconda3\\desktop\\lib\\site-packages\\pandas\\core\\arrays\\masked.py:60: UserWarning: Pandas requires version '1.3.6' or newer of 'bottleneck' (version '1.3.5' currently installed).\n",
      "  from pandas.core import (\n"
     ]
    }
   ],
   "source": [
    "import pandas as pd\n",
    "import numpy as np"
   ]
  },
  {
   "cell_type": "code",
   "execution_count": 4,
   "id": "73c71af9",
   "metadata": {},
   "outputs": [],
   "source": [
    "# Load the datasets\n",
    "movies_df = pd.read_csv('movies.csv')\n",
    "ratings_df = pd.read_csv('ratings.csv')\n",
    "links_df = pd.read_csv('links.csv')\n",
    "tags_df = pd.read_csv('tags.csv')"
   ]
  },
  {
   "cell_type": "markdown",
   "id": "f1c551fb",
   "metadata": {},
   "source": [
    "# How many \".csv\" files are available in the dataset?"
   ]
  },
  {
   "cell_type": "code",
   "execution_count": 5,
   "id": "d8051335",
   "metadata": {},
   "outputs": [
    {
     "name": "stdout",
     "output_type": "stream",
     "text": [
      "Number of CSV files: 4\n"
     ]
    }
   ],
   "source": [
    "csv_files = ['movies.csv', 'ratings.csv', 'links.csv', 'tags.csv']\n",
    "count = len(csv_files)\n",
    "print(f'Number of CSV files: {count}')"
   ]
  },
  {
   "cell_type": "markdown",
   "id": "41b22580",
   "metadata": {},
   "source": [
    "# What is the shape of \"movies.csv\" and \"ratings.csv\"?"
   ]
  },
  {
   "cell_type": "code",
   "execution_count": 6,
   "id": "1ffb1408",
   "metadata": {},
   "outputs": [
    {
     "name": "stdout",
     "output_type": "stream",
     "text": [
      "Shape of movies.csv: (9742, 3)\n",
      "Shape of ratings.csv: (100836, 4)\n"
     ]
    }
   ],
   "source": [
    "datasets = {'movies.csv': movies_df, 'ratings.csv': ratings_df}\n",
    "for name, df in datasets.items():\n",
    "    print(f'Shape of {name}: {df.shape}')"
   ]
  },
  {
   "cell_type": "markdown",
   "id": "895ad642",
   "metadata": {},
   "source": [
    "# How many unique \"userId\" are available in \"ratings.csv\"?"
   ]
  },
  {
   "cell_type": "code",
   "execution_count": 7,
   "id": "c4c31977",
   "metadata": {},
   "outputs": [
    {
     "name": "stdout",
     "output_type": "stream",
     "text": [
      "Number of unique userId: 610\n"
     ]
    }
   ],
   "source": [
    "unique_users = len(ratings_df['userId'].unique())\n",
    "print(f'Number of unique userId: {unique_users}')"
   ]
  },
  {
   "cell_type": "markdown",
   "id": "3e865504",
   "metadata": {},
   "source": [
    "# Which movie has recieved maximum number of user ratings?"
   ]
  },
  {
   "cell_type": "code",
   "execution_count": 8,
   "id": "0b7944ab",
   "metadata": {},
   "outputs": [
    {
     "name": "stdout",
     "output_type": "stream",
     "text": [
      "Movie with maximum number of user ratings: Forrest Gump (1994)\n"
     ]
    }
   ],
   "source": [
    "# We find the movieId with the maximum number of ratings\n",
    "max_ratings_movie_id = ratings_df.groupby('movieId').size().idxmax()\n",
    "\n",
    "# After we merge with movies to get the name of the movie\n",
    "max_rated_movie = movies_df.loc[movies_df['movieId'] == max_ratings_movie_id, 'title'].values[0]\n",
    "print(f'Movie with maximum number of user ratings: {max_rated_movie}')"
   ]
  },
  {
   "cell_type": "markdown",
   "id": "1a4536da",
   "metadata": {},
   "source": [
    "# Select all the correct tags submitted by users to \"Matrix, The (1999)\" movie?"
   ]
  },
  {
   "cell_type": "code",
   "execution_count": 9,
   "id": "a77c5b72",
   "metadata": {},
   "outputs": [
    {
     "name": "stdout",
     "output_type": "stream",
     "text": [
      "Tags for Matrix, The (1999): ['martial arts' 'sci-fi' 'alternate universe' 'philosophy'\n",
      " 'post apocalyptic']\n"
     ]
    }
   ],
   "source": [
    "# Find movieId for 'Matrix, The'\n",
    "matrix_movie_id = movies_df[movies_df['title'].str.contains('Matrix, The', case=False, na=False)]['movieId'].values\n",
    "if matrix_movie_id.size > 0:\n",
    "    matrix_tags = tags_df[tags_df['movieId'] == matrix_movie_id[0]]['tag'].unique()\n",
    "    print(f'Tags for Matrix, The (1999): {matrix_tags}')\n",
    "else:\n",
    "    print('Movie \"Matrix, The\" not found.')"
   ]
  },
  {
   "cell_type": "markdown",
   "id": "8e3f77d2",
   "metadata": {},
   "source": [
    "# What is the average user rating for movie named \"Terminator 2: Judgment Day (1991)\"?"
   ]
  },
  {
   "cell_type": "code",
   "execution_count": 10,
   "id": "4a5337a6",
   "metadata": {},
   "outputs": [
    {
     "name": "stdout",
     "output_type": "stream",
     "text": [
      "Average rating for Terminator 2: Judgment Day (1991): 3.970982142857143\n"
     ]
    }
   ],
   "source": [
    "# find movieId for 'Terminator 2'\n",
    "t2_movie_id = movies_df[movies_df['title'].str.contains('Terminator 2', case=False, na=False)]['movieId'].values[0]\n",
    "# Calculate the average rating\n",
    "t2_ratings = ratings_df[ratings_df['movieId'] == t2_movie_id]['rating'].mean()\n",
    "print(f'Average rating for Terminator 2: Judgment Day (1991): {t2_ratings}')"
   ]
  },
  {
   "cell_type": "markdown",
   "id": "3655c0d3",
   "metadata": {},
   "source": [
    "# How does the data distribution of user ratings for \"Fight Club (1999)\" movie looks like?"
   ]
  },
  {
   "cell_type": "code",
   "execution_count": 11,
   "id": "2790868a",
   "metadata": {},
   "outputs": [
    {
     "data": {
      "image/png": "[encoded data removed]",
      "text/plain": [
       "<Figure size 640x480 with 1 Axes>"
      ]
     },
     "metadata": {},
     "output_type": "display_data"
    }
   ],
   "source": [
    "fight_club_id = movies_df[movies_df['title'].str.contains('Fight Club')]['movieId'].values[0]\n",
    "fight_club_ratings = ratings_df[ratings_df['movieId'] == fight_club_id]['rating']\n",
    "fight_club_distribution = fight_club_ratings.plot.hist(bins=10).get_figure()\n",
    "fight_club_distribution.savefig('fight_club_distribution.png')"
   ]
  },
  {
   "cell_type": "code",
   "execution_count": 12,
   "id": "f327e45b",
   "metadata": {},
   "outputs": [],
   "source": [
    "grouped_ratings = ratings_df.groupby('movieId').agg({'rating': ['count', 'mean']})\n",
    "grouped_ratings.columns = ['count', 'mean_rating']\n",
    "\n",
    "filtered_movies = grouped_ratings[grouped_ratings['count'] > 50]\n",
    "\n",
    "popular_movies = pd.merge(filtered_movies, movies_df, on='movieId')"
   ]
  },
  {
   "cell_type": "code",
   "execution_count": 13,
   "id": "5ccd4d5f",
   "metadata": {},
   "outputs": [
    {
     "name": "stdout",
     "output_type": "stream",
     "text": [
      "Most popular movie based on average user ratings: Shawshank Redemption, The (1994)\n"
     ]
    }
   ],
   "source": [
    "most_popular_movie = popular_movies[popular_movies['mean_rating'] == popular_movies['mean_rating'].max()]\n",
    "print(f'Most popular movie based on average user ratings: {most_popular_movie[\"title\"].values[0]}')"
   ]
  },
  {
   "cell_type": "code",
   "execution_count": 14,
   "id": "b30444d8",
   "metadata": {},
   "outputs": [
    {
     "name": "stdout",
     "output_type": "stream",
     "text": [
      "Top 5 popular movies based on the number of user ratings:\n",
      "                                title  count\n",
      "61                Forrest Gump (1994)    329\n",
      "53   Shawshank Redemption, The (1994)    317\n",
      "49                Pulp Fiction (1994)    307\n",
      "99   Silence of the Lambs, The (1991)    279\n",
      "248                Matrix, The (1999)    278\n"
     ]
    }
   ],
   "source": [
    "top_5_movies = popular_movies.sort_values(by='count', ascending=False).head(5)\n",
    "print('Top 5 popular movies based on the number of user ratings:')\n",
    "print(top_5_movies[['title', 'count']])"
   ]
  },
  {
   "cell_type": "code",
   "execution_count": 15,
   "id": "4fbf6c02",
   "metadata": {},
   "outputs": [
    {
     "name": "stdout",
     "output_type": "stream",
     "text": [
      "Number of movies with more than 50 ratings: 436\n"
     ]
    }
   ],
   "source": [
    "import pandas as pd\n",
    "\n",
    "# Load the datasets\n",
    "movies_df = pd.read_csv('movies.csv')\n",
    "ratings_df = pd.read_csv('ratings.csv')\n",
    "links_df = pd.read_csv('links.csv')\n",
    "\n",
    "# Group by movieId and calculate the number of ratings\n",
    "ratings_grouped = ratings_df.groupby('movieId').agg({'rating': ['count', 'mean']}).reset_index()\n",
    "ratings_grouped.columns = ['movieId', 'rating_count', 'rating_mean']\n",
    "\n",
    "# Filter movies with more than 50 ratings\n",
    "filtered_movies_df = ratings_grouped[ratings_grouped['rating_count'] > 50]\n",
    "\n",
    "# Merge with movies and links data\n",
    "filtered_movies_df = filtered_movies_df.merge(movies_df, on='movieId')\n",
    "filtered_movies_df = filtered_movies_df.merge(links_df, on='movieId')\n",
    "\n",
    "print(f\"Number of movies with more than 50 ratings: {len(filtered_movies_df)}\")"
   ]
  },
  {
   "cell_type": "code",
   "execution_count": 19,
   "id": "0118295d",
   "metadata": {
    "scrolled": true
   },
   "outputs": [
    {
     "name": "stdout",
     "output_type": "stream",
     "text": [
      "Index(['movieId', 'title', 'genres'], dtype='object')\n",
      "Error: 'imdbId' column not found in the DataFrame.\n"
     ]
    }
   ],
   "source": [
    "import pandas as pd\n",
    "import requests\n",
    "from bs4 import BeautifulSoup\n",
    "import time\n",
    "\n",
    "# Load your dataset (Ensure this file contains 'movieId', 'title', 'genres', and 'imdbId' if available)\n",
    "movies_df = pd.read_csv('movies.csv')\n",
    "\n",
    "# Step 1: Verify the presence of necessary columns\n",
    "print(movies_df.columns)  # Ensure 'imdbId' and 'genres' are present\n",
    "\n",
    "# If 'imdbId' is not present, merge with another DataFrame that contains it (Optional)\n",
    "# Uncomment the lines below if you need to merge with an external IMDb dataset\n",
    "# imdb_data = pd.read_csv('imdb_data.csv')  # Ensure this contains 'movieId' and 'imdbId'\n",
    "# movies_df = pd.merge(movies_df, imdb_data, on='movieId', how='left')\n",
    "\n",
    "# Step 2: Filter the DataFrame based on genre (Adjust the filter as needed)\n",
    "filtered_movies_df = movies_df[movies_df['genres'].str.contains('Action', na=False)]  # Example filter for Action movies\n",
    "\n",
    "# Step 3: Define a function to retrieve IMDb reviews\n",
    "def get_imdb_reviews(imdb_id):\n",
    "    reviews = []\n",
    "    url = f'https://www.imdb.com/title/tt{imdb_id}/reviews'\n",
    "    headers = {\"User-Agent\": \"Mozilla/5.0 (Windows NT 10.0; Win64; x64)\"}\n",
    "\n",
    "    max_retries = 3\n",
    "    for attempt in range(max_retries):\n",
    "        try:\n",
    "            response = requests.get(url, headers=headers)\n",
    "            if response.status_code == 200:\n",
    "                soup = BeautifulSoup(response.text, 'html.parser')\n",
    "                review_divs = soup.find_all('div', class_='text show-more__control')\n",
    "                for div in review_divs:\n",
    "                    reviews.append(div.get_text())\n",
    "                break\n",
    "            else:\n",
    "                print(f\"Failed to retrieve reviews for IMDb ID {imdb_id}. Status code: {response.status_code}\")\n",
    "        except Exception as e:\n",
    "            print(f\"Error retrieving reviews for IMDb ID {imdb_id}: {e}\")\n",
    "            time.sleep(2)  # Wait before retrying\n",
    "        else:\n",
    "            if attempt < max_retries - 1:\n",
    "                print(\"Retrying...\")\n",
    "                time.sleep(2)  # Wait before retrying\n",
    "            else:\n",
    "                print(\"Max retries reached. Skipping this IMDb ID.\")\n",
    "    \n",
    "    return reviews\n",
    "\n",
    "# Step 4: Apply the review-fetching function if 'imdbId' column exists\n",
    "if 'imdbId' in filtered_movies_df.columns:\n",
    "    filtered_movies_df['imdb_reviews'] = filtered_movies_df['imdbId'].apply(lambda x: get_imdb_reviews(str(x).zfill(7)))\n",
    "    \n",
    "    # Display the first few rows to confirm that reviews are being captured\n",
    "    print(filtered_movies_df[['movieId', 'title', 'imdb_reviews']].head())\n",
    "else:\n",
    "    print(\"Error: 'imdbId' column not found in the DataFrame.\")\n",
    "\n",
    "# Step 5: Optionally save the filtered DataFrame with reviews to a CSV file\n",
    "filtered_movies_df.to_csv('filtered_movies_with_reviews.csv', index=False)\n"
   ]
  },
  {
   "cell_type": "code",
   "execution_count": null,
   "id": "57d8b5da",
   "metadata": {},
   "outputs": [],
   "source": []
  },
  {
   "cell_type": "code",
   "execution_count": null,
   "id": "c4a799aa",
   "metadata": {},
   "outputs": [],
   "source": []
  },
  {
   "cell_type": "code",
   "execution_count": null,
   "id": "13e4b64c",
   "metadata": {},
   "outputs": [],
   "source": []
  },
  {
   "cell_type": "code",
   "execution_count": null,
   "id": "e694da8c",
   "metadata": {},
   "outputs": [],
   "source": []
  },
  {
   "cell_type": "code",
   "execution_count": null,
   "id": "d2500dd4",
   "metadata": {},
   "outputs": [],
   "source": []
  },
  {
   "cell_type": "code",
   "execution_count": null,
   "id": "c8403aec",
   "metadata": {},
   "outputs": [],
   "source": []
  },
  {
   "cell_type": "code",
   "execution_count": null,
   "id": "4a2ca4a5",
   "metadata": {},
   "outputs": [],
   "source": []
  },
  {
   "cell_type": "code",
   "execution_count": null,
   "id": "cb4a5eaa",
   "metadata": {},
   "outputs": [],
   "source": []
  }
 ],
 "metadata": {
  "kernelspec": {
   "display_name": "Python 3 (ipykernel)",
   "language": "python",
   "name": "python3"
  },
  "language_info": {
   "codemirror_mode": {
    "name": "ipython",
    "version": 3
   },
   "file_extension": ".py",
   "mimetype": "text/x-python",
   "name": "python",
   "nbconvert_exporter": "python",
   "pygments_lexer": "ipython3",
   "version": "3.10.9"
  }
 },
 "nbformat": 4,
 "nbformat_minor": 5
}
